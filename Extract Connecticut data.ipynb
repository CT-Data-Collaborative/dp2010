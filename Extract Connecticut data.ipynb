{
 "cells": [
  {
   "cell_type": "markdown",
   "metadata": {},
   "source": [
    "# Differential Privacy 2010 for Connecticut\n",
    "\n",
    "Inspired by https://shiny.demog.berkeley.edu/eddieh/DP2010DemoData_CA/ (also on GitHub: https://github.com/edyhsgr/DP2010DemoDataReview)\n",
    "\n",
    "US Census data: https://www.nhgis.org/differentially-private-2010-census-data (county subdivision)"
   ]
  },
  {
   "cell_type": "code",
   "execution_count": 2,
   "metadata": {},
   "outputs": [],
   "source": [
    "import pandas as pd"
   ]
  },
  {
   "cell_type": "markdown",
   "metadata": {},
   "source": [
    "### Read and filter DP1 table (people)"
   ]
  },
  {
   "cell_type": "code",
   "execution_count": 33,
   "metadata": {},
   "outputs": [],
   "source": [
    "dp1 = pd.read_csv('raw/wide_dp1_060.csv', encoding='ISO-8859-1')\n",
    "dp1 = dp1[(dp1.gisjoin > 'G09') & (dp1.gisjoin < 'G10')]\n",
    "\n",
    "dp1 = dp1[ ~dp1.name_dp.str.contains('subdivisions') ]\n",
    "dp1.name_dp = dp1.name_dp.apply(lambda x: x.split(' town')[0])"
   ]
  },
  {
   "cell_type": "markdown",
   "metadata": {},
   "source": [
    "### Read and filter DP14 table (housing units)"
   ]
  },
  {
   "cell_type": "code",
   "execution_count": 34,
   "metadata": {},
   "outputs": [],
   "source": [
    "dp14 = pd.read_csv('raw/wide_dp14_060.csv', encoding='ISO-8859-1')\n",
    "dp14 = dp14[(dp14.gisjoin > 'G09') & (dp14.gisjoin < 'G10')]\n",
    "\n",
    "dp14 = dp14[ ~dp14.name_dp.str.contains('subdivisions') ]\n",
    "dp14.name_dp = dp14.name_dp.apply(lambda x: x.split(' town')[0])"
   ]
  },
  {
   "cell_type": "markdown",
   "metadata": {},
   "source": [
    "### Join tables and save"
   ]
  },
  {
   "cell_type": "code",
   "execution_count": 39,
   "metadata": {},
   "outputs": [],
   "source": [
    "dp1.drop(columns=['gisjoin', 'name_sf']).merge(\n",
    "    dp14,\n",
    "    left_on='name_dp',\n",
    "    right_on='name_dp',\n",
    "    suffixes=(False, False)\n",
    ").sort_values(['name_dp']).to_csv('data/data.csv', index=False)"
   ]
  },
  {
   "cell_type": "code",
   "execution_count": null,
   "metadata": {},
   "outputs": [],
   "source": []
  }
 ],
 "metadata": {
  "kernelspec": {
   "display_name": "Python 3",
   "language": "python",
   "name": "python3"
  },
  "language_info": {
   "codemirror_mode": {
    "name": "ipython",
    "version": 3
   },
   "file_extension": ".py",
   "mimetype": "text/x-python",
   "name": "python",
   "nbconvert_exporter": "python",
   "pygments_lexer": "ipython3",
   "version": "3.7.3"
  }
 },
 "nbformat": 4,
 "nbformat_minor": 4
}
